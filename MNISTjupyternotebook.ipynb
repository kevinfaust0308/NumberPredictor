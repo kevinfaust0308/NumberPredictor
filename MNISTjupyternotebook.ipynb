{
 "cells": [
  {
   "cell_type": "code",
   "execution_count": 18,
   "metadata": {
    "collapsed": false
   },
   "outputs": [],
   "source": [
    "import numpy \n",
    "from keras.callbacks import TensorBoard\n",
    "from keras.models import Sequential, load_model\n",
    "from keras.preprocessing.image import ImageDataGenerator\n",
    "from keras.layers import Dense\n",
    "from keras.layers import Dropout\n",
    "from keras.layers import Flatten\n",
    "from keras.constraints import maxnorm\n",
    "from keras.optimizers import SGD\n",
    "from keras.layers.convolutional import Conv2D\n",
    "from keras.layers.convolutional import MaxPooling2D\n",
    "from keras.utils import np_utils\n",
    "\n",
    "import pandas as pd\n",
    "import matplotlib.pyplot as plt\n",
    "%matplotlib inline"
   ]
  },
  {
   "cell_type": "code",
   "execution_count": 12,
   "metadata": {
    "collapsed": false
   },
   "outputs": [
    {
     "data": {
      "text/html": [
       "<div>\n",
       "<table border=\"1\" class=\"dataframe\">\n",
       "  <thead>\n",
       "    <tr style=\"text-align: right;\">\n",
       "      <th></th>\n",
       "      <th>pixel0</th>\n",
       "      <th>pixel1</th>\n",
       "      <th>pixel2</th>\n",
       "      <th>pixel3</th>\n",
       "      <th>pixel4</th>\n",
       "      <th>pixel5</th>\n",
       "      <th>pixel6</th>\n",
       "      <th>pixel7</th>\n",
       "      <th>pixel8</th>\n",
       "      <th>pixel9</th>\n",
       "      <th>...</th>\n",
       "      <th>pixel774</th>\n",
       "      <th>pixel775</th>\n",
       "      <th>pixel776</th>\n",
       "      <th>pixel777</th>\n",
       "      <th>pixel778</th>\n",
       "      <th>pixel779</th>\n",
       "      <th>pixel780</th>\n",
       "      <th>pixel781</th>\n",
       "      <th>pixel782</th>\n",
       "      <th>pixel783</th>\n",
       "    </tr>\n",
       "  </thead>\n",
       "  <tbody>\n",
       "    <tr>\n",
       "      <th>0</th>\n",
       "      <td>0.0</td>\n",
       "      <td>0.0</td>\n",
       "      <td>0.0</td>\n",
       "      <td>0.0</td>\n",
       "      <td>0.0</td>\n",
       "      <td>0.0</td>\n",
       "      <td>0.0</td>\n",
       "      <td>0.0</td>\n",
       "      <td>0.0</td>\n",
       "      <td>0.0</td>\n",
       "      <td>...</td>\n",
       "      <td>0.0</td>\n",
       "      <td>0.0</td>\n",
       "      <td>0.0</td>\n",
       "      <td>0.0</td>\n",
       "      <td>0.0</td>\n",
       "      <td>0.0</td>\n",
       "      <td>0.0</td>\n",
       "      <td>0.0</td>\n",
       "      <td>0.0</td>\n",
       "      <td>0.0</td>\n",
       "    </tr>\n",
       "    <tr>\n",
       "      <th>1</th>\n",
       "      <td>0.0</td>\n",
       "      <td>0.0</td>\n",
       "      <td>0.0</td>\n",
       "      <td>0.0</td>\n",
       "      <td>0.0</td>\n",
       "      <td>0.0</td>\n",
       "      <td>0.0</td>\n",
       "      <td>0.0</td>\n",
       "      <td>0.0</td>\n",
       "      <td>0.0</td>\n",
       "      <td>...</td>\n",
       "      <td>0.0</td>\n",
       "      <td>0.0</td>\n",
       "      <td>0.0</td>\n",
       "      <td>0.0</td>\n",
       "      <td>0.0</td>\n",
       "      <td>0.0</td>\n",
       "      <td>0.0</td>\n",
       "      <td>0.0</td>\n",
       "      <td>0.0</td>\n",
       "      <td>0.0</td>\n",
       "    </tr>\n",
       "    <tr>\n",
       "      <th>2</th>\n",
       "      <td>0.0</td>\n",
       "      <td>0.0</td>\n",
       "      <td>0.0</td>\n",
       "      <td>0.0</td>\n",
       "      <td>0.0</td>\n",
       "      <td>0.0</td>\n",
       "      <td>0.0</td>\n",
       "      <td>0.0</td>\n",
       "      <td>0.0</td>\n",
       "      <td>0.0</td>\n",
       "      <td>...</td>\n",
       "      <td>0.0</td>\n",
       "      <td>0.0</td>\n",
       "      <td>0.0</td>\n",
       "      <td>0.0</td>\n",
       "      <td>0.0</td>\n",
       "      <td>0.0</td>\n",
       "      <td>0.0</td>\n",
       "      <td>0.0</td>\n",
       "      <td>0.0</td>\n",
       "      <td>0.0</td>\n",
       "    </tr>\n",
       "    <tr>\n",
       "      <th>3</th>\n",
       "      <td>0.0</td>\n",
       "      <td>0.0</td>\n",
       "      <td>0.0</td>\n",
       "      <td>0.0</td>\n",
       "      <td>0.0</td>\n",
       "      <td>0.0</td>\n",
       "      <td>0.0</td>\n",
       "      <td>0.0</td>\n",
       "      <td>0.0</td>\n",
       "      <td>0.0</td>\n",
       "      <td>...</td>\n",
       "      <td>0.0</td>\n",
       "      <td>0.0</td>\n",
       "      <td>0.0</td>\n",
       "      <td>0.0</td>\n",
       "      <td>0.0</td>\n",
       "      <td>0.0</td>\n",
       "      <td>0.0</td>\n",
       "      <td>0.0</td>\n",
       "      <td>0.0</td>\n",
       "      <td>0.0</td>\n",
       "    </tr>\n",
       "    <tr>\n",
       "      <th>4</th>\n",
       "      <td>0.0</td>\n",
       "      <td>0.0</td>\n",
       "      <td>0.0</td>\n",
       "      <td>0.0</td>\n",
       "      <td>0.0</td>\n",
       "      <td>0.0</td>\n",
       "      <td>0.0</td>\n",
       "      <td>0.0</td>\n",
       "      <td>0.0</td>\n",
       "      <td>0.0</td>\n",
       "      <td>...</td>\n",
       "      <td>0.0</td>\n",
       "      <td>0.0</td>\n",
       "      <td>0.0</td>\n",
       "      <td>0.0</td>\n",
       "      <td>0.0</td>\n",
       "      <td>0.0</td>\n",
       "      <td>0.0</td>\n",
       "      <td>0.0</td>\n",
       "      <td>0.0</td>\n",
       "      <td>0.0</td>\n",
       "    </tr>\n",
       "  </tbody>\n",
       "</table>\n",
       "<p>5 rows × 784 columns</p>\n",
       "</div>"
      ],
      "text/plain": [
       "   pixel0  pixel1  pixel2  pixel3  pixel4  pixel5  pixel6  pixel7  pixel8  \\\n",
       "0     0.0     0.0     0.0     0.0     0.0     0.0     0.0     0.0     0.0   \n",
       "1     0.0     0.0     0.0     0.0     0.0     0.0     0.0     0.0     0.0   \n",
       "2     0.0     0.0     0.0     0.0     0.0     0.0     0.0     0.0     0.0   \n",
       "3     0.0     0.0     0.0     0.0     0.0     0.0     0.0     0.0     0.0   \n",
       "4     0.0     0.0     0.0     0.0     0.0     0.0     0.0     0.0     0.0   \n",
       "\n",
       "   pixel9    ...     pixel774  pixel775  pixel776  pixel777  pixel778  \\\n",
       "0     0.0    ...          0.0       0.0       0.0       0.0       0.0   \n",
       "1     0.0    ...          0.0       0.0       0.0       0.0       0.0   \n",
       "2     0.0    ...          0.0       0.0       0.0       0.0       0.0   \n",
       "3     0.0    ...          0.0       0.0       0.0       0.0       0.0   \n",
       "4     0.0    ...          0.0       0.0       0.0       0.0       0.0   \n",
       "\n",
       "   pixel779  pixel780  pixel781  pixel782  pixel783  \n",
       "0       0.0       0.0       0.0       0.0       0.0  \n",
       "1       0.0       0.0       0.0       0.0       0.0  \n",
       "2       0.0       0.0       0.0       0.0       0.0  \n",
       "3       0.0       0.0       0.0       0.0       0.0  \n",
       "4       0.0       0.0       0.0       0.0       0.0  \n",
       "\n",
       "[5 rows x 784 columns]"
      ]
     },
     "execution_count": 12,
     "metadata": {},
     "output_type": "execute_result"
    }
   ],
   "source": [
    "# load dataset\n",
    "# only will be taking first 10000 images to make training faster\n",
    "df_train = pd.read_csv('train.csv')[:10000]\n",
    "\n",
    "# normalize pixels (only for X)\n",
    "X = df_train.ix[:,1:].astype('float32') / 255.0\n",
    "y = df_train.ix[:,0]\n",
    "\n",
    "X.head()"
   ]
  },
  {
   "cell_type": "code",
   "execution_count": 13,
   "metadata": {
    "collapsed": false
   },
   "outputs": [
    {
     "name": "stdout",
     "output_type": "stream",
     "text": [
      "Looking at digit 1\n"
     ]
    },
    {
     "data": {
      "text/plain": [
       "<matplotlib.colorbar.Colorbar at 0x1fc9f99ea20>"
      ]
     },
     "execution_count": 13,
     "metadata": {},
     "output_type": "execute_result"
    },
    {
     "data": {
      "image/png": "[encoded data removed]",
      "text/plain": [
       "<matplotlib.figure.Figure at 0x1fc9e832a58>"
      ]
     },
     "metadata": {},
     "output_type": "display_data"
    }
   ],
   "source": [
    "print(\"Looking at digit\", y.ix[0,0])\n",
    "plt.imshow(X.ix[0,:].values.reshape(28,28),cmap='gray')\n",
    "plt.axis('off')\n",
    "plt.colorbar()"
   ]
  },
  {
   "cell_type": "code",
   "execution_count": 14,
   "metadata": {
    "collapsed": false
   },
   "outputs": [
    {
     "data": {
      "text/plain": [
       "array([[ 0.,  1.,  0., ...,  0.,  0.,  0.],\n",
       "       [ 1.,  0.,  0., ...,  0.,  0.,  0.],\n",
       "       [ 0.,  1.,  0., ...,  0.,  0.,  0.],\n",
       "       ..., \n",
       "       [ 0.,  0.,  0., ...,  0.,  0.,  0.],\n",
       "       [ 0.,  0.,  0., ...,  1.,  0.,  0.],\n",
       "       [ 0.,  0.,  0., ...,  0.,  0.,  1.]])"
      ]
     },
     "execution_count": 14,
     "metadata": {},
     "output_type": "execute_result"
    }
   ],
   "source": [
    "# pd.get_dummies(y_train) gives us a dataframe\n",
    "# this one by keras will give in array form so might as well use this\n",
    "\n",
    "y = np_utils.to_categorical(y)\n",
    "num_classes = y.shape[1]\n",
    "\n",
    "y"
   ]
  },
  {
   "cell_type": "code",
   "execution_count": 15,
   "metadata": {
    "collapsed": false
   },
   "outputs": [
    {
     "data": {
      "text/plain": [
       "(10000, 28, 28, 1)"
      ]
     },
     "execution_count": 15,
     "metadata": {},
     "output_type": "execute_result"
    }
   ],
   "source": [
    "# keras doesnt deal with dataframes, only matrixes\n",
    "# reshape to 4d; (samples, rows, cols, channels) if data_format='channels_last'.\n",
    "X = X.as_matrix().reshape(X.shape[0], 28, 28, 1)\n",
    "X.shape"
   ]
  },
  {
   "cell_type": "code",
   "execution_count": 24,
   "metadata": {
    "collapsed": true
   },
   "outputs": [],
   "source": [
    "# simple CNN\n",
    "\n",
    "simple = Sequential()\n",
    "simple.add(Conv2D(32, (3,3), padding='same', input_shape=(28,28,1), activation='relu', kernel_constraint=maxnorm(3)))\n",
    "simple.add(Dropout(0.2))\n",
    "simple.add(Conv2D(32, (3,3), padding='same', activation='relu', kernel_constraint=maxnorm(3)))\n",
    "simple.add(MaxPooling2D())\n",
    "\n",
    "simple.add(Flatten())\n",
    "\n",
    "simple.add(Dense(512, activation='relu', kernel_constraint=maxnorm(3)))\n",
    "simple.add(Dropout(0.5))\n",
    "\n",
    "simple.add(Dense(num_classes, activation='softmax'))"
   ]
  },
  {
   "cell_type": "code",
   "execution_count": 25,
   "metadata": {
    "collapsed": true
   },
   "outputs": [],
   "source": [
    "# compile the model\n",
    "simple.compile(loss='categorical_crossentropy', optimizer='adam', metrics=['accuracy'])"
   ]
  },
  {
   "cell_type": "code",
   "execution_count": 26,
   "metadata": {
    "collapsed": false
   },
   "outputs": [
    {
     "name": "stdout",
     "output_type": "stream",
     "text": [
      "Train on 8000 samples, validate on 2000 samples\n",
      "Epoch 1/10\n",
      "8000/8000 [==============================] - 23s - loss: 0.0617 - acc: 0.9819 - val_loss: 0.0553 - val_acc: 0.9880\n",
      "Epoch 2/10\n",
      "8000/8000 [==============================] - 24s - loss: 0.0550 - acc: 0.9851 - val_loss: 0.0855 - val_acc: 0.9790\n",
      "Epoch 3/10\n",
      "8000/8000 [==============================] - 24s - loss: 0.0608 - acc: 0.9828 - val_loss: 0.1043 - val_acc: 0.9710\n",
      "Epoch 4/10\n",
      "8000/8000 [==============================] - 24s - loss: 0.0447 - acc: 0.9881 - val_loss: 0.0673 - val_acc: 0.9790\n",
      "Epoch 5/10\n",
      "8000/8000 [==============================] - 24s - loss: 0.0494 - acc: 0.9851 - val_loss: 0.0865 - val_acc: 0.9820\n",
      "Epoch 6/10\n",
      "8000/8000 [==============================] - 24s - loss: 0.0460 - acc: 0.9863 - val_loss: 0.0707 - val_acc: 0.9770\n",
      "Epoch 7/10\n",
      "8000/8000 [==============================] - 24s - loss: 0.0469 - acc: 0.9870 - val_loss: 0.0607 - val_acc: 0.9840\n",
      "Epoch 8/10\n",
      "8000/8000 [==============================] - 24s - loss: 0.0470 - acc: 0.9880 - val_loss: 0.0670 - val_acc: 0.9790\n",
      "Epoch 9/10\n",
      "8000/8000 [==============================] - 24s - loss: 0.0413 - acc: 0.9888 - val_loss: 0.0769 - val_acc: 0.9835\n",
      "Epoch 10/10\n",
      "8000/8000 [==============================] - 28s - loss: 0.0423 - acc: 0.9888 - val_loss: 0.0552 - val_acc: 0.9860\n"
     ]
    },
    {
     "data": {
      "text/plain": [
       "<keras.callbacks.History at 0x1fcb1c30be0>"
      ]
     },
     "execution_count": 26,
     "metadata": {},
     "output_type": "execute_result"
    }
   ],
   "source": [
    "model.fit(X, y, validation_split=0.2, callbacks=[TensorBoard('./logs/run1')])"
   ]
  },
  {
   "cell_type": "code",
   "execution_count": null,
   "metadata": {
    "collapsed": true
   },
   "outputs": [],
   "source": [
    ""
   ]
  },
  {
   "cell_type": "code",
   "execution_count": 17,
   "metadata": {
    "collapsed": false
   },
   "outputs": [],
   "source": [
    "# a CNN\n",
    "model = Sequential()\n",
    "model.add(Conv2D(32, (3,3), padding='same', input_shape=(28,28,1), activation='relu', kernel_constraint=maxnorm(3)))\n",
    "model.add(Dropout(0.2))\n",
    "model.add(Conv2D(32, (3,3), padding='same', activation='relu', kernel_constraint=maxnorm(3)))\n",
    "model.add(MaxPooling2D())\n",
    "\n",
    "model.add(Conv2D(32, (3,3), padding='same', input_shape=(28,28,1), activation='relu', kernel_constraint=maxnorm(3)))\n",
    "model.add(Dropout(0.2))\n",
    "model.add(Conv2D(32, (3,3), padding='same', activation='relu', kernel_constraint=maxnorm(3)))\n",
    "model.add(MaxPooling2D())\n",
    "\n",
    "model.add(Conv2D(32, (3,3), padding='same', input_shape=(28,28,1), activation='relu', kernel_constraint=maxnorm(3)))\n",
    "model.add(Dropout(0.2))\n",
    "model.add(Conv2D(32, (3,3), padding='same', activation='relu', kernel_constraint=maxnorm(3)))\n",
    "model.add(MaxPooling2D())\n",
    "\n",
    "model.add(Flatten())\n",
    "\n",
    "model.add(Dense(512, activation='relu', kernel_constraint=maxnorm(3)))\n",
    "model.add(Dropout(0.5))\n",
    "model.add(Dense(256, activation='relu', kernel_constraint=maxnorm(3)))\n",
    "model.add(Dropout(0.5))\n",
    "\n",
    "model.add(Dense(num_classes, activation='softmax'))"
   ]
  },
  {
   "cell_type": "code",
   "execution_count": 28,
   "metadata": {
    "collapsed": false
   },
   "outputs": [
    {
     "name": "stdout",
     "output_type": "stream",
     "text": [
      "Train on 8000 samples, validate on 2000 samples\n",
      "Epoch 1/10\n",
      "8000/8000 [==============================] - 24s - loss: 0.0359 - acc: 0.9896 - val_loss: 0.0694 - val_acc: 0.9855\n",
      "Epoch 2/10\n",
      "8000/8000 [==============================] - 24s - loss: 0.0385 - acc: 0.9904 - val_loss: 0.0745 - val_acc: 0.9810\n",
      "Epoch 3/10\n",
      "8000/8000 [==============================] - 24s - loss: 0.0282 - acc: 0.9918 - val_loss: 0.0963 - val_acc: 0.9835\n",
      "Epoch 4/10\n",
      "8000/8000 [==============================] - 24s - loss: 0.0360 - acc: 0.9896 - val_loss: 0.0665 - val_acc: 0.9850\n",
      "Epoch 5/10\n",
      "8000/8000 [==============================] - 26s - loss: 0.0329 - acc: 0.9909 - val_loss: 0.0734 - val_acc: 0.9825\n",
      "Epoch 6/10\n",
      "8000/8000 [==============================] - 37s - loss: 0.0361 - acc: 0.9913 - val_loss: 0.1162 - val_acc: 0.9790\n",
      "Epoch 7/10\n",
      "8000/8000 [==============================] - 26s - loss: 0.0357 - acc: 0.9913 - val_loss: 0.0960 - val_acc: 0.9825\n",
      "Epoch 8/10\n",
      "8000/8000 [==============================] - 29s - loss: 0.0287 - acc: 0.9935 - val_loss: 0.0879 - val_acc: 0.9865\n",
      "Epoch 9/10\n",
      "8000/8000 [==============================] - 29s - loss: 0.0336 - acc: 0.9944 - val_loss: 0.1051 - val_acc: 0.9850\n",
      "Epoch 10/10\n",
      "8000/8000 [==============================] - 28s - loss: 0.0384 - acc: 0.9906 - val_loss: 0.1079 - val_acc: 0.9870\n"
     ]
    }
   ],
   "source": [
    "# compile the model (rmsprop)\n",
    "model.compile(loss='categorical_crossentropy', optimizer='rmsprop', metrics=['accuracy'])\n",
    "history = model.fit(X, y, validation_split=0.2, callbacks=[TensorBoard('./logs/run2')])"
   ]
  },
  {
   "cell_type": "code",
   "execution_count": null,
   "metadata": {
    "collapsed": true
   },
   "outputs": [],
   "source": [
    ""
   ]
  },
  {
   "cell_type": "code",
   "execution_count": 21,
   "metadata": {
    "collapsed": true
   },
   "outputs": [],
   "source": [
    "# compile the model (adam)\n",
    "model.compile(loss='categorical_crossentropy', optimizer='adam', metrics=['accuracy'])"
   ]
  },
  {
   "cell_type": "code",
   "execution_count": 22,
   "metadata": {
    "collapsed": false
   },
   "outputs": [
    {
     "name": "stdout",
     "output_type": "stream",
     "text": [
      "Train on 8000 samples, validate on 2000 samples\n",
      "Epoch 1/10\n",
      "8000/8000 [==============================] - 24s - loss: 0.9924 - acc: 0.6507 - val_loss: 0.2699 - val_acc: 0.9215\n",
      "Epoch 2/10\n",
      "8000/8000 [==============================] - 25s - loss: 0.2507 - acc: 0.9263 - val_loss: 0.1000 - val_acc: 0.9690\n",
      "Epoch 3/10\n",
      "8000/8000 [==============================] - 26s - loss: 0.1631 - acc: 0.9512 - val_loss: 0.0941 - val_acc: 0.9700\n",
      "Epoch 4/10\n",
      "8000/8000 [==============================] - 25s - loss: 0.1317 - acc: 0.9621 - val_loss: 0.0897 - val_acc: 0.9735\n",
      "Epoch 5/10\n",
      "8000/8000 [==============================] - 25s - loss: 0.1148 - acc: 0.9664 - val_loss: 0.0830 - val_acc: 0.9770\n",
      "Epoch 6/10\n",
      "8000/8000 [==============================] - 26s - loss: 0.0945 - acc: 0.9714 - val_loss: 0.0939 - val_acc: 0.9745\n",
      "Epoch 7/10\n",
      "8000/8000 [==============================] - 26s - loss: 0.0822 - acc: 0.9764 - val_loss: 0.0684 - val_acc: 0.9785\n",
      "Epoch 8/10\n",
      "8000/8000 [==============================] - 25s - loss: 0.0776 - acc: 0.9759 - val_loss: 0.0584 - val_acc: 0.9840\n",
      "Epoch 9/10\n",
      "8000/8000 [==============================] - 24s - loss: 0.0741 - acc: 0.9783 - val_loss: 0.1057 - val_acc: 0.9705\n",
      "Epoch 10/10\n",
      "8000/8000 [==============================] - 24s - loss: 0.0698 - acc: 0.9808 - val_loss: 0.0593 - val_acc: 0.9840\n"
     ]
    },
    {
     "data": {
      "text/plain": [
       "<keras.callbacks.History at 0x1fc9f02f550>"
      ]
     },
     "execution_count": 22,
     "metadata": {},
     "output_type": "execute_result"
    }
   ],
   "source": [
    "model.fit(X, y, validation_split=0.2, callbacks=[TensorBoard('./logs/run2')])"
   ]
  },
  {
   "cell_type": "code",
   "execution_count": 23,
   "metadata": {
    "collapsed": true
   },
   "outputs": [],
   "source": [
    "model.save('my_model.h5')"
   ]
  },
  {
   "cell_type": "code",
   "execution_count": null,
   "metadata": {
    "collapsed": true
   },
   "outputs": [],
   "source": [
    ""
   ]
  },
  {
   "cell_type": "code",
   "execution_count": 30,
   "metadata": {
    "collapsed": false
   },
   "outputs": [
    {
     "data": {
      "text/plain": [
       "{'acc': [0.98962499999999998,\n",
       "  0.99037500000000001,\n",
       "  0.99175000000000002,\n",
       "  0.98962499999999998,\n",
       "  0.99087499999999995,\n",
       "  0.99124999999999996,\n",
       "  0.99124999999999996,\n",
       "  0.99350000000000005,\n",
       "  0.99437500000000001,\n",
       "  0.99062499999999998],\n",
       " 'loss': [0.035879849584477826,\n",
       "  0.038465390022030421,\n",
       "  0.028228334965303588,\n",
       "  0.035963961707327602,\n",
       "  0.032857774541911113,\n",
       "  0.036131427068336504,\n",
       "  0.035731908526739631,\n",
       "  0.028739309426882981,\n",
       "  0.033573745116699964,\n",
       "  0.038398305222179831],\n",
       " 'val_acc': [0.98550000000000004,\n",
       "  0.98099999999999998,\n",
       "  0.98350000000000004,\n",
       "  0.98499999999999999,\n",
       "  0.98250000000000004,\n",
       "  0.97899999999999998,\n",
       "  0.98250000000000004,\n",
       "  0.98650000000000004,\n",
       "  0.98499999999999999,\n",
       "  0.98699999999999999],\n",
       " 'val_loss': [0.069403646866008334,\n",
       "  0.074453276273321531,\n",
       "  0.096287852962173015,\n",
       "  0.066468395722185963,\n",
       "  0.073351209062618175,\n",
       "  0.11621092265905099,\n",
       "  0.095976284735308809,\n",
       "  0.087915571901005019,\n",
       "  0.10508335072935529,\n",
       "  0.10786817503376755]}"
      ]
     },
     "execution_count": 30,
     "metadata": {},
     "output_type": "execute_result"
    }
   ],
   "source": [
    "history_dict = history.history\n",
    "history_dict"
   ]
  },
  {
   "cell_type": "markdown",
   "metadata": {},
   "source": [
    "### simple visual for train/val loss"
   ]
  },
  {
   "cell_type": "markdown",
   "metadata": {},
   "source": [
    "### more stuff on tensorboard"
   ]
  },
  {
   "cell_type": "code",
   "execution_count": 31,
   "metadata": {
    "collapsed": false
   },
   "outputs": [
    {
     "data": {
      "image/png": "[encoded data removed]",
      "text/plain": [
       "<matplotlib.figure.Figure at 0x1fc9fec9710>"
      ]
     },
     "metadata": {},
     "output_type": "display_data"
    }
   ],
   "source": [
    "loss_values = history_dict['loss']\n",
    "val_loss_values = history_dict['val_loss']\n",
    "epochs = range(1, len(loss_values) + 1)\n",
    "\n",
    "# \"bo\" is for \"blue dot\"\n",
    "plt.plot(epochs, loss_values, 'bo')\n",
    "# b+ is for \"blue crosses\"\n",
    "plt.plot(epochs, val_loss_values, 'b+')\n",
    "plt.xlabel('Epochs')\n",
    "plt.ylabel('Loss')\n",
    "\n",
    "plt.show()"
   ]
  },
  {
   "cell_type": "code",
   "execution_count": 32,
   "metadata": {
    "collapsed": false
   },
   "outputs": [
    {
     "data": {
      "image/png": "[encoded data removed]",
      "text/plain": [
       "<matplotlib.figure.Figure at 0x1fcb44c18d0>"
      ]
     },
     "metadata": {},
     "output_type": "display_data"
    }
   ],
   "source": [
    "acc_values = history_dict['acc']\n",
    "val_acc_values = history_dict['val_acc']\n",
    "\n",
    "plt.plot(epochs, acc_values, 'bo')\n",
    "plt.plot(epochs, val_acc_values, 'b+')\n",
    "plt.xlabel('Epochs')\n",
    "plt.ylabel('Accuracy')\n",
    "\n",
    "plt.show()"
   ]
  },
  {
   "cell_type": "code",
   "execution_count": null,
   "metadata": {
    "collapsed": true
   },
   "outputs": [],
   "source": [
    ""
   ]
  }
 ],
 "metadata": {
  "anaconda-cloud": {},
  "kernelspec": {
   "display_name": "Python [default]",
   "language": "python",
   "name": "python3"
  },
  "language_info": {
   "codemirror_mode": {
    "name": "ipython",
    "version": 3.0
   },
   "file_extension": ".py",
   "mimetype": "text/x-python",
   "name": "python",
   "nbconvert_exporter": "python",
   "pygments_lexer": "ipython3",
   "version": "3.5.2"
  }
 },
 "nbformat": 4,
 "nbformat_minor": 0
}